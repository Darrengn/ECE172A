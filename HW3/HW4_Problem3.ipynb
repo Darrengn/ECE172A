{
 "cells": [
  {
   "cell_type": "code",
   "execution_count": 4,
   "metadata": {},
   "outputs": [],
   "source": [
    "import os\n",
    "import pandas as pd\n",
    "import cv2\n",
    "import tensorflow.keras as keras\n",
    "import numpy as np\n",
    "from tensorflow.keras.layers import Dense, Dropout, Flatten, Input\n",
    "from tensorflow.keras.layers import Conv2D, MaxPooling2D\n",
    "from tensorflow.keras.layers import BatchNormalization\n",
    "from tensorflow.keras.optimizers import Adam\n",
    "from tensorflow.keras.models import Sequential\n",
    "import matplotlib.pyplot as plt\n",
    "\n",
    "data_dir = 'GTSRB\\Training'\n",
    "#GTSRB-training_fixed\\GTSRB\\Training"
   ]
  },
  {
   "cell_type": "code",
   "execution_count": 5,
   "metadata": {},
   "outputs": [],
   "source": [
    "def preprocess(img):\n",
    "    return cv2.resize(img, (64, 64), interpolation = cv2.INTER_AREA)"
   ]
  },
  {
   "cell_type": "code",
   "execution_count": 6,
   "metadata": {},
   "outputs": [
    {
     "name": "stdout",
     "output_type": "stream",
     "text": [
      "(4300, 64, 64, 3)\n"
     ]
    }
   ],
   "source": [
    "list_images = []\n",
    "output = []\n",
    "\n",
    "for dir in os.listdir(data_dir):\n",
    "    i = 0\n",
    "    if dir == '.DS_Store' :\n",
    "        continue\n",
    "    inner_dir = os.path.join(data_dir, dir)\n",
    "    csv_file = pd.read_csv(os.path.join(inner_dir,\"GT-\" + dir + '.csv'), sep=';')\n",
    "    for row in csv_file.iterrows():\n",
    "        if i < 100:\n",
    "            img_path = os.path.join(inner_dir, row[1].Filename)\n",
    "            img = cv2.imread(img_path)\n",
    "            img = img[row[1]['Roi.X1']:row[1]['Roi.X2'],row[1]['Roi.Y1']:row[1]['Roi.Y2'],:]\n",
    "            img = preprocess(img)\n",
    "            list_images.append(img)\n",
    "            output.append(row[1].ClassId)\n",
    "        i += 1\n",
    "        \n",
    "print(np.shape(list_images))"
   ]
  },
  {
   "cell_type": "code",
   "execution_count": 78,
   "metadata": {},
   "outputs": [],
   "source": [
    "# img_rgb = cv2.cvtColor(list_images[0], cv2.COLOR_BGR2RGB)\n",
    "# plt.imshow(img_rgb)\n",
    "# plt.show()\n",
    "# img_rgb = cv2.cvtColor(list_images[4101], cv2.COLOR_BGR2RGB)\n",
    "# plt.imshow(img_rgb)\n",
    "# print(output[4101])"
   ]
  },
  {
   "cell_type": "code",
   "execution_count": 79,
   "metadata": {},
   "outputs": [],
   "source": [
    "input_array = np.stack(list_images)\n",
    "train_y = keras.utils.to_categorical(output)\n",
    "\n",
    "randomize = np.arange(len(input_array))\n",
    "np.random.shuffle(randomize)\n",
    "\n",
    "x = input_array[randomize]\n",
    "y = train_y[randomize]"
   ]
  },
  {
   "cell_type": "code",
   "execution_count": 80,
   "metadata": {},
   "outputs": [],
   "source": [
    "split_size = int(x.shape[0]*0.6)\n",
    "train_x, val_x = x[:split_size], x[split_size:]\n",
    "train1_y, val_y = y[:split_size], y[split_size:]\n",
    "\n",
    "split_size = int(val_x.shape[0]*0.5)\n",
    "val_x, test_x = val_x[:split_size], val_x[split_size:]\n",
    "val_y, test_y = val_y[:split_size], val_y[split_size:]"
   ]
  },
  {
   "cell_type": "code",
   "execution_count": 89,
   "metadata": {},
   "outputs": [
    {
     "name": "stdout",
     "output_type": "stream",
     "text": [
      "Epoch 1/10\n",
      "\u001b[1m162/162\u001b[0m \u001b[32m━━━━━━━━━━━━━━━━━━━━\u001b[0m\u001b[37m\u001b[0m \u001b[1m46s\u001b[0m 243ms/step - accuracy: 0.3067 - loss: 2.8111 - val_accuracy: 0.5360 - val_loss: 2.2111\n",
      "Epoch 2/10\n",
      "\u001b[1m162/162\u001b[0m \u001b[32m━━━━━━━━━━━━━━━━━━━━\u001b[0m\u001b[37m\u001b[0m \u001b[1m40s\u001b[0m 247ms/step - accuracy: 0.8969 - loss: 0.4140 - val_accuracy: 0.8907 - val_loss: 0.5304\n",
      "Epoch 3/10\n",
      "\u001b[1m162/162\u001b[0m \u001b[32m━━━━━━━━━━━━━━━━━━━━\u001b[0m\u001b[37m\u001b[0m \u001b[1m40s\u001b[0m 249ms/step - accuracy: 0.9680 - loss: 0.1202 - val_accuracy: 0.9349 - val_loss: 0.2951\n",
      "Epoch 4/10\n",
      "\u001b[1m162/162\u001b[0m \u001b[32m━━━━━━━━━━━━━━━━━━━━\u001b[0m\u001b[37m\u001b[0m \u001b[1m41s\u001b[0m 251ms/step - accuracy: 0.9748 - loss: 0.0860 - val_accuracy: 0.9360 - val_loss: 0.2996\n",
      "Epoch 5/10\n",
      "\u001b[1m162/162\u001b[0m \u001b[32m━━━━━━━━━━━━━━━━━━━━\u001b[0m\u001b[37m\u001b[0m \u001b[1m40s\u001b[0m 245ms/step - accuracy: 0.9942 - loss: 0.0352 - val_accuracy: 0.9186 - val_loss: 0.3187\n",
      "Epoch 6/10\n",
      "\u001b[1m162/162\u001b[0m \u001b[32m━━━━━━━━━━━━━━━━━━━━\u001b[0m\u001b[37m\u001b[0m \u001b[1m39s\u001b[0m 241ms/step - accuracy: 0.9894 - loss: 0.0429 - val_accuracy: 0.9384 - val_loss: 0.2808\n",
      "Epoch 7/10\n",
      "\u001b[1m162/162\u001b[0m \u001b[32m━━━━━━━━━━━━━━━━━━━━\u001b[0m\u001b[37m\u001b[0m \u001b[1m40s\u001b[0m 246ms/step - accuracy: 0.9789 - loss: 0.0731 - val_accuracy: 0.9465 - val_loss: 0.2114\n",
      "Epoch 8/10\n",
      "\u001b[1m162/162\u001b[0m \u001b[32m━━━━━━━━━━━━━━━━━━━━\u001b[0m\u001b[37m\u001b[0m \u001b[1m40s\u001b[0m 244ms/step - accuracy: 0.9919 - loss: 0.0366 - val_accuracy: 0.9581 - val_loss: 0.1737\n",
      "Epoch 9/10\n",
      "\u001b[1m162/162\u001b[0m \u001b[32m━━━━━━━━━━━━━━━━━━━━\u001b[0m\u001b[37m\u001b[0m \u001b[1m40s\u001b[0m 249ms/step - accuracy: 0.9783 - loss: 0.0814 - val_accuracy: 0.9384 - val_loss: 0.2078\n",
      "Epoch 10/10\n",
      "\u001b[1m162/162\u001b[0m \u001b[32m━━━━━━━━━━━━━━━━━━━━\u001b[0m\u001b[37m\u001b[0m \u001b[1m40s\u001b[0m 249ms/step - accuracy: 0.9935 - loss: 0.0328 - val_accuracy: 0.9628 - val_loss: 0.1597\n"
     ]
    }
   ],
   "source": [
    "epochs = 10\n",
    "batch_size = 16\n",
    "\n",
    "input_shape = Input(shape=(32, 32,3))\n",
    "\n",
    "model = Sequential([\n",
    "    Conv2D(16, (3, 3), activation='relu', input_shape=(64,64,3), padding='same'),\n",
    "    BatchNormalization(),\n",
    "    Conv2D(16, (3, 3), activation='relu', padding='same'),\n",
    "    BatchNormalization(),\n",
    "    MaxPooling2D(pool_size=(2, 2)),\n",
    "#     Dropout(0.2),\n",
    "    \n",
    "    Conv2D(32, (3, 3), activation='relu', padding='same'),\n",
    "    BatchNormalization(),\n",
    "    \n",
    "    Conv2D(32, (3, 3), activation='relu', padding='same'),\n",
    "    BatchNormalization(),\n",
    "    MaxPooling2D(pool_size=(2, 2)),\n",
    "#     Dropout(0.2),\n",
    "    \n",
    "    Conv2D(64, (3, 3), activation='relu', padding='same'),\n",
    "    BatchNormalization(),\n",
    "    Conv2D(64, (3, 3), activation='relu', padding='same'),\n",
    "    BatchNormalization(),\n",
    "    MaxPooling2D(pool_size=(2, 2)),\n",
    "#     Dropout(0.2),\n",
    "    \n",
    "    Flatten(),\n",
    "    Dense(units=2048, activation='relu'),\n",
    "#     Dropout(0.2),\n",
    "    Dense(units=1024, activation='relu'),\n",
    "#     Dropout(0.2),\n",
    "    Dense(units=128, activation='relu'),\n",
    "#     Dropout(0.2),\n",
    "    Dense(units=43, input_dim=2048, activation='softmax'),\n",
    "    \n",
    "])\n",
    "\n",
    "model.compile(loss='categorical_crossentropy', optimizer=Adam(learning_rate = 1e-4), metrics=['accuracy'])\n",
    "trained_model_conv = model.fit(train_x.reshape(-1,64,64,3), train1_y, epochs=epochs, batch_size=batch_size, validation_data=(val_x, val_y))"
   ]
  },
  {
   "cell_type": "code",
   "execution_count": 90,
   "metadata": {},
   "outputs": [
    {
     "name": "stdout",
     "output_type": "stream",
     "text": [
      "\u001b[1m27/27\u001b[0m \u001b[32m━━━━━━━━━━━━━━━━━━━━\u001b[0m\u001b[37m\u001b[0m \u001b[1m1s\u001b[0m 52ms/step - accuracy: 0.9814 - loss: 0.0740\n"
     ]
    },
    {
     "data": {
      "text/plain": [
       "[0.07296526432037354, 0.9790697693824768]"
      ]
     },
     "execution_count": 90,
     "metadata": {},
     "output_type": "execute_result"
    }
   ],
   "source": [
    "model.evaluate(test_x, test_y)"
   ]
  },
  {
   "cell_type": "code",
   "execution_count": null,
   "metadata": {},
   "outputs": [],
   "source": []
  }
 ],
 "metadata": {
  "kernelspec": {
   "display_name": "Python 3 (ipykernel)",
   "language": "python",
   "name": "python3"
  },
  "language_info": {
   "codemirror_mode": {
    "name": "ipython",
    "version": 3
   },
   "file_extension": ".py",
   "mimetype": "text/x-python",
   "name": "python",
   "nbconvert_exporter": "python",
   "pygments_lexer": "ipython3",
   "version": "3.11.5"
  }
 },
 "nbformat": 4,
 "nbformat_minor": 4
}
